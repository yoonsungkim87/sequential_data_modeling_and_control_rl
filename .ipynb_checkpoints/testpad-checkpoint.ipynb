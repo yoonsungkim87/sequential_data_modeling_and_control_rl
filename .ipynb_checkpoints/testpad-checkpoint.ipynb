{
 "cells": [
  {
   "cell_type": "code",
   "execution_count": 1,
   "metadata": {
    "scrolled": false
   },
   "outputs": [
    {
     "name": "stderr",
     "output_type": "stream",
     "text": [
      "Using TensorFlow backend.\n"
     ]
    },
    {
     "name": "stdout",
     "output_type": "stream",
     "text": [
      "> Compilation Time :  0.010307073593139648\n",
      "[ 87.89899948   6.96522412   1.34867028] 1.0\n",
      "[ 82.46188502  12.17314901   1.35404277] 0.0\n"
     ]
    }
   ],
   "source": [
    "import virtual_env\n",
    "env = virtual_env.scrEnv(1000)\n",
    "env.reset()\n",
    "#o, r, done, info = env.step(env.action_space.sample())\n",
    "o, r, done, info = env.step(2)\n",
    "print(o,r)\n",
    "while not done:\n",
    "    #env.render()\n",
    "    o, r, done, info = env.step(2) # take a random action\n",
    "    print(o,r)"
   ]
  },
  {
   "cell_type": "code",
   "execution_count": null,
   "metadata": {
    "collapsed": true
   },
   "outputs": [],
   "source": []
  }
 ],
 "metadata": {
  "kernelspec": {
   "display_name": "Python 3",
   "language": "python",
   "name": "python3"
  },
  "language_info": {
   "codemirror_mode": {
    "name": "ipython",
    "version": 3
   },
   "file_extension": ".py",
   "mimetype": "text/x-python",
   "name": "python",
   "nbconvert_exporter": "python",
   "pygments_lexer": "ipython3",
   "version": "3.6.3"
  }
 },
 "nbformat": 4,
 "nbformat_minor": 2
}
